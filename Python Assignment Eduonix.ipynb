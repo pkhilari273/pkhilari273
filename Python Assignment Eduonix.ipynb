{
 "cells": [
  {
   "cell_type": "code",
   "execution_count": 3,
   "id": "7e50f625-0695-4265-bb7a-84d3020287f6",
   "metadata": {},
   "outputs": [
    {
     "name": "stdout",
     "output_type": "stream",
     "text": [
      "Lets calculate for how much period are you alive\n",
      " please enter your name\n"
     ]
    },
    {
     "name": "stdin",
     "output_type": "stream",
     "text": [
      "name:  KAVITA\n"
     ]
    },
    {
     "name": "stdout",
     "output_type": "stream",
     "text": [
      "Please enter your age in years\n"
     ]
    },
    {
     "name": "stdin",
     "output_type": "stream",
     "text": [
      "age:  25\n"
     ]
    },
    {
     "name": "stdout",
     "output_type": "stream",
     "text": [
      "Select the unit you want your age in:\n",
      "M- Months\n",
      "W- Weeks\n",
      "D- Days\n",
      "H- Hours\n",
      "Min- Minutes\n",
      "S- Seconds\n"
     ]
    },
    {
     "name": "stdin",
     "output_type": "stream",
     "text": [
      "\n",
      "Enter the number corresponding to the unit:  S\n"
     ]
    },
    {
     "name": "stdout",
     "output_type": "stream",
     "text": [
      "Your age in Seconds is 788400000\n"
     ]
    }
   ],
   "source": [
    "print(\"Lets calculate for how much period are you alive\")\n",
    "print (\" please enter your name\")\n",
    "name = input (\"name: \")\n",
    "print (\"Please enter your age in years\")\n",
    "age = int(input (\"age: \"))\n",
    "month = age * 12\n",
    "Weeks = age * 52.14\n",
    "Days = age * 365\n",
    "hours = age * 8760\n",
    "minutes = age * 525600\n",
    "Seconds = age * 31536000\n",
    "print(\"Select the unit you want your age in:\")\n",
    "print(\"M- Months\")\n",
    "print(\"W- Weeks\")\n",
    "print(\"D- Days\")\n",
    "print(\"H- Hours\")\n",
    "print(\"Min- Minutes\")\n",
    "print(\"S- Seconds\")\n",
    "unit_choice = input(\"\\nEnter the number corresponding to the unit: \")\n",
    "if unit_choice == \"M\":\n",
    "    print (\"Your age in Months is\", month)\n",
    "if unit_choice == \"W\":\n",
    "    print (\"Your age in Weeks is\", weeks)\n",
    "if unit_choice == \"D\":\n",
    "    print (\"Your age in Days is\", Days)\n",
    "if unit_choice == \"H\":\n",
    "    print (\"Your age in Hours is\", hours)  \n",
    "if unit_choice == \"Min\":\n",
    "    print (\"Your age in Minutes is\", minutes)\n",
    "if unit_choice == \"S\":\n",
    "    print (\"Your age in Seconds is\", Seconds)"
   ]
  }
 ],
 "metadata": {
  "kernelspec": {
   "display_name": "Python 3 (ipykernel)",
   "language": "python",
   "name": "python3"
  },
  "language_info": {
   "codemirror_mode": {
    "name": "ipython",
    "version": 3
   },
   "file_extension": ".py",
   "mimetype": "text/x-python",
   "name": "python",
   "nbconvert_exporter": "python",
   "pygments_lexer": "ipython3",
   "version": "3.12.4"
  }
 },
 "nbformat": 4,
 "nbformat_minor": 5
}
